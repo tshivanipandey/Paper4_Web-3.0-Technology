{
 "cells": [
  {
   "cell_type": "code",
   "execution_count": null,
   "id": "153a3736",
   "metadata": {},
   "outputs": [],
   "source": [
    "                                                    Practcal 6"
   ]
  },
  {
   "cell_type": "code",
   "execution_count": 81,
   "id": "141a30fe",
   "metadata": {},
   "outputs": [
    {
     "name": "stdout",
     "output_type": "stream",
     "text": [
      "Defaulting to user installation because normal site-packages is not writeable\n",
      "Requirement already satisfied: pycryptodome in c:\\users\\admin\\appdata\\roaming\\python\\python39\\site-packages (3.20.0)\n"
     ]
    }
   ],
   "source": [
    "!pip install pycryptodome\n"
   ]
  },
  {
   "cell_type": "code",
   "execution_count": 82,
   "id": "17e79d24",
   "metadata": {},
   "outputs": [],
   "source": [
    "import Crypto\n",
    "import Crypto.Random\n",
    "from Crypto.Hash import SHA\n",
    "from Crypto.PublicKey import RSA\n",
    "from Crypto.Signature import PKCS1_v1_5\n",
    "import binascii\n",
    "import datetime\n",
    "import collections"
   ]
  },
  {
   "cell_type": "code",
   "execution_count": 83,
   "id": "219b69f2",
   "metadata": {},
   "outputs": [],
   "source": [
    "class Client:\n",
    "    def __init__(self) -> None:\n",
    "        random = Crypto.Random.new().read\n",
    "        self._private_key = RSA.generate(1024, random)\n",
    "        self._public_key = self._private_key.public_key()\n",
    "        self._signer = PKCS1_v1_5.new(self._private_key)\n",
    "    @property\n",
    "    def identity(self):\n",
    "        return binascii.hexlify(self._public_key.export_key(format=\"DER\")).decode('ascii')"
   ]
  },
  {
   "cell_type": "code",
   "execution_count": 84,
   "id": "3c11891e",
   "metadata": {},
   "outputs": [],
   "source": [
    "class Transaction:\n",
    "    def __init__ (self, sender, recipent, value) -> None:\n",
    "        self.sender = sender\n",
    "        self.recipent = recipent\n",
    "        self.value = value\n",
    "        self.time = datetime.datetime.now()\n",
    "    def to_dict(self):\n",
    "        if self.sender == \"Genesis\":\n",
    "            identity = \"Genesis\"\n",
    "        else:\n",
    "            identity = self.sender.identity\n",
    "        return collections.OrderedDict ({\n",
    "            'sender' : identity,\n",
    "            \"recipent\" : self.recipent,\n",
    "            \"value\" : self.value,\n",
    "            \"time\": self.time\n",
    "        })\n",
    "    def sign_transaction(self):\n",
    "        private_key = self.sender._private_key\n",
    "        signer = PKCS1_v1_5.new(private_key)\n",
    "        h = SHA.new(str(self.to_dict()).encode('utf8'))\n",
    "        return binascii.hexlify(signer.sign(h)).decode('ascii')"
   ]
  },
  {
   "cell_type": "code",
   "execution_count": 104,
   "id": "77cd5afc",
   "metadata": {},
   "outputs": [
    {
     "name": "stdout",
     "output_type": "stream",
     "text": [
      "30819f300d06092a864886f70d010101050003818d0030818902818100b113ca4b6ca3131cb526ef3b2c969aeb9442854b3153463c6c24b4a5323f7234771cfb74d20d60d73f1c962afba7197ed4670b2892fc52c1e02184b09cb953b728b16ee433c275bb5df81385f1fd5d135d5e4e3531140634bbe291883b8b3f41a3d5f261b8ca7ddd3ffc2d98a1d10789156bcd46214eecf802e37556914c2b730203010001\n"
     ]
    }
   ],
   "source": [
    "Dinesh = Client()\n",
    "print (Dinesh.identity)"
   ]
  },
  {
   "cell_type": "code",
   "execution_count": null,
   "id": "477ba108",
   "metadata": {},
   "outputs": [],
   "source": [
    "                                                            
