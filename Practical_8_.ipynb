{
  "nbformat": 4,
  "nbformat_minor": 0,
  "metadata": {
    "colab": {
      "provenance": [],
      "toc_visible": true
    },
    "kernelspec": {
      "name": "python3",
      "display_name": "Python 3"
    },
    "language_info": {
      "name": "python"
    }
  },
  "cells": [
    {
      "cell_type": "code",
      "execution_count": null,
      "metadata": {
        "id": "3myjcmlKcTK9"
      },
      "outputs": [],
      "source": [
        "Practical 8"
      ]
    },
    {
      "cell_type": "code",
      "source": [
        "def sha256(message):\n",
        "  return hashlib.sha256(message.encode('ascii')).hexdigest()\n",
        "\n",
        "def mine(message, difficulty=1):\n",
        "   assert difficulty >= 1\n",
        "   prefix = '1' * difficulty\n",
        "   for i in range(1000):\n",
        "      digest = sha256(str(hash(message)) + str(i))\n",
        "      if digest.startswith(prefix):\n",
        "         print (\"after \" + str(i) + \" iterations found nonce: \"+ digest)\n",
        "      return digest\n",
        "\n",
        "last_transaction_index = 0\n"
      ],
      "metadata": {
        "id": "HGgkSKkcca8K"
      },
      "execution_count": 1,
      "outputs": []
    },
    {
      "cell_type": "code",
      "source": [
        "\n",
        "\n",
        "block = Block()\n",
        "for i in range(3):\n",
        "   temp_transaction = transactions[last_transaction_index]\n",
        "   # validate transaction\n",
        "   # if valid\n",
        "   block.verified_transactions.append (temp_transaction)\n",
        "   last_transaction_index += 1 mine (\"test message\", 2)\n",
        "\n",
        "\n",
        "block.previous_block_hash = last_block_hash\n",
        "block.Nonce = mine (block, 2)\n",
        "digest = hash (block)\n",
        "TPCoins.append (block)\n",
        "last_block_hash = digest\n",
        "\n",
        "# Miner 2 adds a block\n",
        "block = Block()\n",
        "\n",
        "for i in range(3):\n",
        "   temp_transaction = transactions[last_transaction_index]\n",
        "   # validate transaction\n",
        "   # if valid\n",
        "   block.verified_transactions.append (temp_transaction)\n",
        "   last_transaction_index += 1\n",
        "block.previous_block_hash = last_block_hash\n",
        "block.Nonce = mine(block, 2)\n",
        "digest = hash (block)\n",
        "TPCoins.append (block)\n",
        "last_block_hash = digest\n",
        "# Miner 3 adds a block\n",
        "block = Block()\n"
      ],
      "metadata": {
        "id": "GK7ax-X4dbpB"
      },
      "execution_count": null,
      "outputs": []
    },
    {
      "cell_type": "code",
      "source": [
        "\n",
        "for i in range(3):\n",
        "   temp_transaction = transactions[last_transaction_index]\n",
        "   #display_transaction (temp_transaction)\n",
        "   # validate transaction\n",
        "   # if valid\n",
        "   block.verified_transactions.append (temp_transaction)\n",
        "   last_transaction_index += 1\n",
        "\n",
        "block.previous_block_hash = last_block_hash\n",
        "block.Nonce = mine (block, 2)\n",
        "digest = hash (block)\n",
        "\n",
        "TPCoins.append (block)\n",
        "last_block_hash = digest\n",
        "dump_blockchain(TPCoins)\n"
      ],
      "metadata": {
        "id": "QGd6ul4RddmF"
      },
      "execution_count": null,
      "outputs": []
    }
  ]
}